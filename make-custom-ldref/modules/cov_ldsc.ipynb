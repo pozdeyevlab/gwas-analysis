{
 "cells": [
  {
   "cell_type": "code",
   "execution_count": null,
   "metadata": {
    "vscode": {
     "languageId": "plaintext"
    }
   },
   "outputs": [],
   "source": [
    "## Python Package Import\n",
    "import sys\n",
    "import os \n",
    "import numpy as np\n",
    "import pandas as pd\n",
    "from datetime import datetime"
   ]
  },
  {
   "cell_type": "code",
   "execution_count": null,
   "metadata": {
    "vscode": {
     "languageId": "plaintext"
    }
   },
   "outputs": [],
   "source": [
    "USER_NAME = os.getenv('OWNER_EMAIL').split('@')[0].replace('.','-')\n",
    "%env USER_NAME={USER_NAME}\n",
    "%env JOB_NAME=calculate_ld_scores"
   ]
  },
  {
   "cell_type": "code",
   "execution_count": null,
   "metadata": {
    "vscode": {
     "languageId": "plaintext"
    }
   },
   "outputs": [],
   "source": [
    "input_dir = 'meta_analysis_mixed'\n",
    "\n",
    "# creating task file for parallelization\n",
    "PARAMETER_FILENAME = 'gs~/data/cov-ldsc/task_files/calculate_LD_scores.tsv'\n",
    "\n",
    "df = pd.DataFrame(data={\n",
    "    '--env CHR': range(1,23,1),\n",
    "    '--input BED': ['gs~/data/cov-ldsc/ldsc_input/' + input_dir + '/chr' + str(f) + '_map_unrelated.bed'\n",
    "                             for f in range(1,23,1)],\n",
    "    '--input BIM': ['gs~/data/cov-ldsc/ldsc_input/' + input_dir + '/chr' + str(f) + '_map_unrelated.bim'\n",
    "                             for f in range(1,23,1)],\n",
    "    '--input FAM': ['gs~/data/cov-ldsc/ldsc_input/' + input_dir + '/chr' + str(f) + '_map_unrelated.fam'\n",
    "                             for f in range(1,23,1)]\n",
    "})\n",
    "df.to_csv(PARAMETER_FILENAME, sep='\\t', index=False)"
   ]
  },
  {
   "cell_type": "code",
   "execution_count": null,
   "metadata": {
    "vscode": {
     "languageId": "plaintext"
    }
   },
   "outputs": [],
   "source": [
    "%env PARAMETER_FILENAME={PARAMETER_FILENAME}\n",
    "%env BIOBANK={input_dir}"
   ]
  },
  {
   "cell_type": "code",
   "execution_count": null,
   "metadata": {
    "vscode": {
     "languageId": "plaintext"
    }
   },
   "outputs": [],
   "source": [
    "%%writefile ~/aou_dsub.bash\n",
    "\n",
    "#!/bin/bash\n",
    "\n",
    "# This shell function passes reasonable defaults for several dsub parameters, while\n",
    "# allowing the caller to override any of them. It creates a nice folder structure within\n",
    "# the workspace bucket for dsub log files.\n",
    "\n",
    "# --[ Parameters ]--\n",
    "# any valid dsub parameter flag\n",
    "\n",
    "#--[ Returns ]--\n",
    "# the job id of the job created by dsub\n",
    "\n",
    "#--[ Details ]--\n",
    "# The first five parameters below should always be those values when running on AoU RWB.\n",
    "\n",
    "# Feel free to change the values for --user, --regions, --logging, and --image if you like.\n",
    "\n",
    "# Note that we insert some job data into the logging path.\n",
    "# https://github.com/DataBiosphere/dsub/blob/main/docs/logging.md#inserting-job-data\n",
    "\n",
    "function aou_dsub () {\n",
    "\n",
    "  # Get a shorter username to leave more characters for the job name.\n",
    "  local DSUB_USER_NAME=\"$(echo \"${OWNER_EMAIL}\" | cut -d@ -f1)\"\n",
    "\n",
    "  # For AoU RWB projects network name is \"network\".\n",
    "  local AOU_NETWORK=network\n",
    "  local AOU_SUBNETWORK=subnetwork\n",
    "\n",
    "  dsub \\\n",
    "      --provider google-cls-v2 \\\n",
    "      --user-project \"${GOOGLE_PROJECT}\"\\\n",
    "      --project \"${GOOGLE_PROJECT}\"\\\n",
    "      --image 'marketplace.gcr.io/google/ubuntu1804:latest' \\\n",
    "      --network \"${AOU_NETWORK}\" \\\n",
    "      --subnetwork \"${AOU_SUBNETWORK}\" \\\n",
    "      --service-account \"$(gcloud config get-value account)\" \\\n",
    "      --user \"${DSUB_USER_NAME}\" \\\n",
    "      --regions us-central1 \\\n",
    "      --logging \"${WORKSPACE_BUCKET}/dsub/logs/{job-name}/{user-id}/$(date +'%Y%m%d/%H%M%S')/{job-id}-{task-id}-{task-attempt}.log\" \\\n",
    "      \"$@\"\n",
    "}"
   ]
  },
  {
   "cell_type": "code",
   "execution_count": null,
   "metadata": {
    "vscode": {
     "languageId": "plaintext"
    }
   },
   "outputs": [],
   "source": [
    "%%bash\n",
    "\n",
    "echo source ~/ldsc_dsub.bash >> ~/.bashrc"
   ]
  },
  {
   "cell_type": "code",
   "execution_count": null,
   "metadata": {
    "vscode": {
     "languageId": "plaintext"
    }
   },
   "outputs": [],
   "source": [
    "%%bash --out JOB_NAME\n",
    "\n",
    "source ~/aou_dsub.bash\n",
    "\n",
    "MACHINE_TYPE=\"n2-standard-4\"\n",
    "\n",
    "aou_dsub \\\n",
    "    --tasks \"${PARAMETER_FILENAME}\" \\\n",
    "    --machine-type ${MACHINE_TYPE} \\\n",
    "    --image \"gcr.io/escalator-docker-image/cov_ldsc:latest\" \\\n",
    "    --name \"${JOB_NAME}\" \\\n",
    "    --output-recursive output=\"${WORKSPACE_BUCKET}/data/cov-ldsc/LD_scores/${BIOBANK}\" \\\n",
    "    --input COV=\"gs~/data/cov-ldsc/ldsc_input/${BIOBANK}_plink2.eigenvec\" \\\n",
    "    --input BEDfile=${BED} \\\n",
    "    --input BIMfile=${BIM} \\\n",
    "    --input FAMfile=${FAM} \\\n",
    "    --command 'set -o errexit && \\\n",
    "               set -o xtrace && \\\n",
    "               python /opt/ldsc.py \\\n",
    "                     --bfile /mnt/data/input/gs/fc-secure-77508628-062c-4135-b1e6-9835e6463584/data/cov-ldsc/ldsc_input/meta_analysis_mixed/chr${CHR}_map_unrelated \\\n",
    "                     --l2 --ld-wind-cm 20 \\\n",
    "                     --cov ${COV} \\\n",
    "                     --out \"${output}/${CHR}\"'"
   ]
  },
  {
   "cell_type": "code",
   "execution_count": null,
   "metadata": {
    "vscode": {
     "languageId": "plaintext"
    }
   },
   "outputs": [],
   "source": [
    "# to make JOB_ID available from %%bash cells\n",
    "%env JOB_ID={JOB_NAME}"
   ]
  },
  {
   "cell_type": "code",
   "execution_count": null,
   "metadata": {
    "vscode": {
     "languageId": "plaintext"
    }
   },
   "outputs": [],
   "source": [
    "%%bash\n",
    "\n",
    "dstat \\\n",
    "    --provider google-cls-v2 \\\n",
    "    --project \"${GOOGLE_PROJECT}\" \\\n",
    "    --location us-central1 \\\n",
    "    --jobs \"${JOB_ID}\" \\\n",
    "    --users \"${USER_NAME}\" \\\n",
    "    --status '*' \\\n",
    "#    --full"
   ]
  }
 ],
 "metadata": {
  "language_info": {
   "name": "python"
  }
 },
 "nbformat": 4,
 "nbformat_minor": 2
}
