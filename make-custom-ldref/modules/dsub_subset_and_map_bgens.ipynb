{
 "cells": [
  {
   "cell_type": "code",
   "execution_count": null,
   "metadata": {
    "vscode": {
     "languageId": "plaintext"
    }
   },
   "outputs": [],
   "source": [
    "# Python Package Imports\n",
    "import sys\n",
    "import os \n",
    "import numpy as np\n",
    "import pandas as pd\n",
    "from datetime import datetime"
   ]
  },
  {
   "cell_type": "code",
   "execution_count": null,
   "metadata": {
    "vscode": {
     "languageId": "plaintext"
    }
   },
   "outputs": [],
   "source": [
    "# DSUB set up\n",
    "USER_NAME = os.getenv('OWNER_EMAIL').split('@')[0].replace('.','-')\n",
    "%env USER_NAME={USER_NAME}\n",
    "%env JOB_NAME=subset_and_filter_for_ldsc"
   ]
  },
  {
   "cell_type": "code",
   "execution_count": null,
   "metadata": {
    "vscode": {
     "languageId": "plaintext"
    }
   },
   "outputs": [],
   "source": [
    "# This and next cell randomly selects AoU IDs to match required population composition\n",
    "\n",
    "biobank = 'meta_analysis_mixed' # job name\n",
    "n = 5000 # sample size for LD score calculations. \n",
    "\n",
    "# Summix2 Fractions\n",
    "fractions=[0.7, 0.17, 0.045, 0.082, 0, 0]\n",
    "\n",
    "counts = [int(round(n*x, 0)) for x in fractions]\n",
    "pop_fractions = pd.DataFrame({'POP':[\"eur\", \"afr\", \"amr\", \"eas\", \"sas\", \"mid\"],\n",
    "                            'Counts': counts})\n",
    "\n",
    "\n",
    "# Read AoU major continental population predictions\n",
    "pop = pd.read_csv(\"ancestry_preds.tsv\", sep = '\\t')\n",
    "\n",
    "mapper = pop_fractions.set_index('POP')['Counts'].to_dict()\n",
    "\n",
    "IDs = pop.groupby('ancestry_pred').apply(lambda x: x.sample(n=mapper.get(x.name))).reset_index(drop = True)"
   ]
  },
  {
   "cell_type": "code",
   "execution_count": null,
   "metadata": {
    "vscode": {
     "languageId": "plaintext"
    }
   },
   "outputs": [],
   "source": [
    "%env BIOBANK={biobank}"
   ]
  },
  {
   "cell_type": "code",
   "execution_count": null,
   "metadata": {
    "vscode": {
     "languageId": "plaintext"
    }
   },
   "outputs": [],
   "source": [
    "ID_list = pd.DataFrame({'FID':IDs['research_id'],\n",
    "                        'IID':IDs['research_id'],\n",
    "                        'zero':0})\n",
    "\n",
    "# Actual google-bucket path is obscure for safety\n",
    "ID_list.to_csv(\"gs~cov-ldsc/summix/\"+ biobank + \".idlist\", \n",
    "               sep = '\\t',\n",
    "               index=False, header=False)"
   ]
  },
  {
   "cell_type": "code",
   "execution_count": null,
   "metadata": {
    "vscode": {
     "languageId": "plaintext"
    }
   },
   "outputs": [],
   "source": [
    "# creating task file for parallelization\n",
    "PARAMETER_FILENAME = 'gs~cov-ldsc/task_files/subset_and_map_bgen_task.tsv'\n",
    "\n",
    "df = pd.DataFrame(data={\n",
    "    '--env CHR': [1,2,3,4,5,6,7,8,9,10,11,12,13,14,15,16,17,18,19,20,21,22],\n",
    "    '--input BGEN': ['gs~VDS_FINAL_PULL/mac_filtered_BGEN/chr1_filtered_v7.bgen',\n",
    "             'gs~VDS_FINAL_PULL/mac_filtered_BGEN/chr2_filtered_v7.bgen',\n",
    "             'gs~VDS_FINAL_PULL/mac_filtered_BGEN/chr3_filtered_v7.bgen',\n",
    "             'gs~VDS_FINAL_PULL/mac_filtered_BGEN/chr4_filtered_v7.bgen',\n",
    "             'gs~VDS_FINAL_PULL/mac_filtered_BGEN/chr5_filtered_v7.bgen',\n",
    "             'gs~VDS_FINAL_PULL/mac_filtered_BGEN/chr6_filtered_v7.bgen',\n",
    "             'gs~VDS_FINAL_PULL/mac_filtered_BGEN/chr7_filtered_v7.bgen',\n",
    "             'gs~VDS_FINAL_PULL/mac_filtered_BGEN/chr8_filtered_v7.bgen',\n",
    "             'gs~VDS_FINAL_PULL/mac_filtered_BGEN/chr9_filtered_v7.bgen',\n",
    "             'gs~VDS_FINAL_PULL/mac_filtered_BGEN/chr10_filtered_v7.bgen', \n",
    "             'gs~VDS_FINAL_PULL/mac_filtered_BGEN/chr11_filtered_v7.bgen',\n",
    "             'gs~VDS_FINAL_PULL/mac_filtered_BGEN/chr12_filtered_v7.bgen',\n",
    "             'gs~VDS_FINAL_PULL/mac_filtered_BGEN/chr13_filtered_v7.bgen',\n",
    "             'gs~VDS_FINAL_PULL/mac_filtered_BGEN/chr14_filtered_v7.bgen',\n",
    "             'gs~VDS_FINAL_PULL/mac_filtered_BGEN/chr15_filtered_v7.bgen',\n",
    "             'gs~VDS_FINAL_PULL/mac_filtered_BGEN/chr16_filtered_v7.bgen',\n",
    "             'gs~VDS_FINAL_PULL/mac_filtered_BGEN/chr17_filtered_v7.bgen',\n",
    "             'gs~VDS_FINAL_PULL/mac_filtered_BGEN/chr18_filtered_v7.bgen',\n",
    "             'gs~VDS_FINAL_PULL/mac_filtered_BGEN/chr19_filtered_v7.bgen',\n",
    "             'gs~VDS_FINAL_PULL/mac_filtered_BGEN/chr20_filtered_v7.bgen',\n",
    "             'gs~VDS_FINAL_PULL/mac_filtered_BGEN/chr21_filtered_v7.bgen',\n",
    "             'gs~VDS_FINAL_PULL/mac_filtered_BGEN/chr22_filtered_v7.bgen'],\n",
    "    '--input SAMPLE': ['gs~VDS_FINAL_PULL/mac_filtered_BGEN/chr1_filtered_v7.sample',\n",
    "             'gs~VDS_FINAL_PULL/mac_filtered_BGEN/chr2_filtered_v7.sample',\n",
    "             'gs~VDS_FINAL_PULL/mac_filtered_BGEN/chr3_filtered_v7.sample',\n",
    "             'gs~VDS_FINAL_PULL/mac_filtered_BGEN/chr4_filtered_v7.sample',\n",
    "             'gs~VDS_FINAL_PULL/mac_filtered_BGEN/chr5_filtered_v7.sample',\n",
    "             'gs~VDS_FINAL_PULL/mac_filtered_BGEN/chr6_filtered_v7.sample',\n",
    "             'gs~VDS_FINAL_PULL/mac_filtered_BGEN/chr7_filtered_v7.sample',\n",
    "             'gs~VDS_FINAL_PULL/mac_filtered_BGEN/chr8_filtered_v7.sample',\n",
    "             'gs~VDS_FINAL_PULL/mac_filtered_BGEN/chr9_filtered_v7.sample',\n",
    "             'gs~VDS_FINAL_PULL/mac_filtered_BGEN/chr10_filtered_v7.sample', \n",
    "             'gs~VDS_FINAL_PULL/mac_filtered_BGEN/chr11_filtered_v7.sample',\n",
    "             'gs~VDS_FINAL_PULL/mac_filtered_BGEN/chr12_filtered_v7.sample',\n",
    "             'gs~VDS_FINAL_PULL/mac_filtered_BGEN/chr13_filtered_v7.sample',\n",
    "             'gs~VDS_FINAL_PULL/mac_filtered_BGEN/chr14_filtered_v7.sample',\n",
    "             'gs~VDS_FINAL_PULL/mac_filtered_BGEN/chr15_filtered_v7.sample',\n",
    "             'gs~VDS_FINAL_PULL/mac_filtered_BGEN/chr16_filtered_v7.sample',\n",
    "             'gs~VDS_FINAL_PULL/mac_filtered_BGEN/chr17_filtered_v7.sample',\n",
    "             'gs~VDS_FINAL_PULL/mac_filtered_BGEN/chr18_filtered_v7.sample',\n",
    "             'gs~VDS_FINAL_PULL/mac_filtered_BGEN/chr19_filtered_v7.sample',\n",
    "             'gs~VDS_FINAL_PULL/mac_filtered_BGEN/chr20_filtered_v7.sample',\n",
    "             'gs~VDS_FINAL_PULL/mac_filtered_BGEN/chr21_filtered_v7.sample',\n",
    "             'gs~VDS_FINAL_PULL/mac_filtered_BGEN/chr22_filtered_v7.sample']\n",
    "})\n",
    "\n",
    "# select chromosomes to run\n",
    "df=df.iloc[0:22,:]\n",
    "df.to_csv(PARAMETER_FILENAME, sep='\\t', index=False)"
   ]
  },
  {
   "cell_type": "code",
   "execution_count": null,
   "metadata": {
    "vscode": {
     "languageId": "plaintext"
    }
   },
   "outputs": [],
   "source": [
    "%env PARAMETER_FILENAME={PARAMETER_FILENAME}"
   ]
  },
  {
   "cell_type": "code",
   "execution_count": null,
   "metadata": {
    "vscode": {
     "languageId": "plaintext"
    }
   },
   "outputs": [],
   "source": [
    "%%writefile ~/subset_and_map_bgen.bash\n",
    "\n",
    "#!/bin/bash\n",
    "\n",
    "# Sample file must be in the following format (tab separated) first row is 0\\t0\\t0 followed by FID\\tIID\\t0\n",
    "# '''\n",
    "# 0       0       0\n",
    "# 1004866 1004866 0\n",
    "# 2928323 2928323 0\n",
    "# '''\n",
    "\n",
    "set -o errexit\n",
    "set -o nounset\n",
    "\n",
    "# extracting directory name\n",
    "GENETIC_MAP_PATH=\"$(dirname \"${GENETIC_MAP}\")\"\n",
    "\n",
    "\n",
    "# plink2 --bgen ${BGEN} ref-first --sample ${SAMPLE} \\\n",
    "#      --make-bed \\\n",
    "#      --out ${output}/test\n",
    "\n",
    "            \n",
    "# converting bgen to bed\n",
    "# subsetting to IDs in $file\n",
    "plink2 --bgen ${BGEN} ref-first --sample ${SAMPLE} \\\n",
    "    --make-bed \\\n",
    "    --keep ${ID_FILE} \\\n",
    "    --out \"chr\"\n",
    "            \n",
    "# removing high LD regions, multiallelic sites andfiltering by missingness, hwe, maf\n",
    "plink2 --bfile \"chr\" \\\n",
    "    --exclude range ${HIGH_LD} \\\n",
    "    --max-alleles 2 \\\n",
    "    --rm-dup force-first \\\n",
    "    --geno 0.1 \\\n",
    "    --hwe 1e-6 \\\n",
    "    --maf 0.05 \\\n",
    "    --make-bed \\\n",
    "    --out \"chr_filtered\"\n",
    "  \n",
    "# # Optional to remove variants with empty names \n",
    "# # Our BGENs should not have any variants like this, however\n",
    "# #          plink2 --bfile \"chr\"$i\"_filtered\"\n",
    "# #              --exclude missing_name_snps \\ # remove SNPs with empty IDs\n",
    "# #              --make-bed \\\n",
    "# #              --out \"chr\"$i\"_filtered\"\n",
    "\n",
    "# Adding genetic map\n",
    "plink --bfile \"chr_filtered\" \\\n",
    "    --cm-map ${GENETIC_MAP_PATH}/genetic_map_chr${CHR}_hg38.txt ${CHR} \\\n",
    "    --make-bed \\\n",
    "    --out ${output}/chr${CHR}_map"
   ]
  },
  {
   "cell_type": "code",
   "execution_count": null,
   "metadata": {
    "vscode": {
     "languageId": "plaintext"
    }
   },
   "outputs": [],
   "source": [
    "# copying script to cloud to be invoked by dsub later\n",
    "!gsutil cp /home/jupyter/subset_and_map_bgen.bash ${WORKSPACE_BUCKET}/data/cov-ldsc/scripts/"
   ]
  },
  {
   "cell_type": "code",
   "execution_count": null,
   "metadata": {
    "vscode": {
     "languageId": "plaintext"
    }
   },
   "outputs": [],
   "source": [
    "%%writefile ~/aou_dsub.bash\n",
    "\n",
    "#!/bin/bash\n",
    "\n",
    "# This shell function passes reasonable defaults for several dsub parameters, while\n",
    "# allowing the caller to override any of them. It creates a nice folder structure within\n",
    "# the workspace bucket for dsub log files.\n",
    "\n",
    "# --[ Parameters ]--\n",
    "# any valid dsub parameter flag\n",
    "\n",
    "#--[ Returns ]--\n",
    "# the job id of the job created by dsub\n",
    "\n",
    "#--[ Details ]--\n",
    "# The first five parameters below should always be those values when running on AoU RWB.\n",
    "\n",
    "# Feel free to change the values for --user, --regions, --logging, and --image if you like.\n",
    "\n",
    "# Note that we insert some job data into the logging path.\n",
    "# https://github.com/DataBiosphere/dsub/blob/main/docs/logging.md#inserting-job-data\n",
    "\n",
    "function aou_dsub () {\n",
    "\n",
    "  # Get a shorter username to leave more characters for the job name.\n",
    "  local DSUB_USER_NAME=\"$(echo \"${OWNER_EMAIL}\" | cut -d@ -f1)\"\n",
    "\n",
    "  # For AoU RWB projects network name is \"network\".\n",
    "  local AOU_NETWORK=network\n",
    "  local AOU_SUBNETWORK=subnetwork\n",
    "\n",
    "  dsub \\\n",
    "      --provider google-cls-v2 \\\n",
    "      --user-project \"${GOOGLE_PROJECT}\"\\\n",
    "      --project \"${GOOGLE_PROJECT}\"\\\n",
    "      --image 'marketplace.gcr.io/google/ubuntu1804:latest' \\\n",
    "      --network \"${AOU_NETWORK}\" \\\n",
    "      --subnetwork \"${AOU_SUBNETWORK}\" \\\n",
    "      --service-account \"$(gcloud config get-value account)\" \\\n",
    "      --user \"${DSUB_USER_NAME}\" \\\n",
    "      --regions us-central1 \\\n",
    "      --logging \"${WORKSPACE_BUCKET}/dsub/logs/{job-name}/{user-id}/$(date +'%Y%m%d/%H%M%S')/{job-id}-{task-id}-{task-attempt}.log\" \\\n",
    "      \"$@\"\n",
    "}"
   ]
  },
  {
   "cell_type": "code",
   "execution_count": null,
   "metadata": {
    "vscode": {
     "languageId": "plaintext"
    }
   },
   "outputs": [],
   "source": [
    "%%bash\n",
    "\n",
    "# this is optional and allows using the function in the terminal\n",
    "echo source ~/aou_dsub.bash >> ~/.bashrc"
   ]
  },
  {
   "cell_type": "code",
   "execution_count": null,
   "metadata": {
    "vscode": {
     "languageId": "plaintext"
    }
   },
   "outputs": [],
   "source": [
    "%%bash --out JOB_NAME\n",
    "\n",
    "source ~/aou_dsub.bash\n",
    "\n",
    "# Get a shorter username to leave more characters for the job name.\n",
    "DSUB_USER_NAME=\"$(echo \"${OWNER_EMAIL}\" | cut -d@ -f1)\"\n",
    "MACHINE_TYPE=\"n2-standard-4\"\n",
    "\n",
    "# For AoU RWB projects network name is \"network\".\n",
    "AOU_NETWORK=network\n",
    "AOU_SUBNETWORK=subnetwork\n",
    "\n",
    "aou_dsub \\\n",
    "      --tasks \"${PARAMETER_FILENAME}\" \\\n",
    "      --machine-type ${MACHINE_TYPE} \\\n",
    "      --image us.gcr.io/broad-dsp-gcr-public/terra-jupyter-aou:2.1.19 \\\n",
    "      --disk-size 512 \\\n",
    "      --boot-disk-size 50 \\\n",
    "      --user \"${DSUB_USER_NAME}\" \\\n",
    "      --name \"${JOB_NAME}\" \\\n",
    "      --input ID_FILE=\"gs~cov-ldsc/summix/${BIOBANK}.idlist\" \\\n",
    "      --input GENETIC_MAP='gs~cov-ldsc/genetic_map_hg38/*' \\\n",
    "      --input HIGH_LD='gs~cov-ldsc/high_LD_regions/high-LD-regions-hg38-GRCh38.bed' \\\n",
    "      --input MISSING_NAMES='gs~cov-ldsc/missing_names/missing_name_snps' \\\n",
    "      --output-recursive output=\"${WORKSPACE_BUCKET}/data/cov-ldsc/output/${BIOBANK}\" \\\n",
    "      --script \"${WORKSPACE_BUCKET}/data/cov-ldsc/scripts/subset_and_map_bgen.bash\""
   ]
  },
  {
   "cell_type": "code",
   "execution_count": null,
   "metadata": {
    "vscode": {
     "languageId": "plaintext"
    }
   },
   "outputs": [],
   "source": [
    "# to make JOB_ID available from %%bash cells\n",
    "%env JOB_ID={JOB_NAME}"
   ]
  },
  {
   "cell_type": "code",
   "execution_count": null,
   "metadata": {
    "vscode": {
     "languageId": "plaintext"
    }
   },
   "outputs": [],
   "source": [
    "%%bash\n",
    "# Check status\n",
    "dstat \\\n",
    "    --provider google-cls-v2 \\\n",
    "    --project \"${GOOGLE_PROJECT}\" \\\n",
    "    --location us-central1 \\\n",
    "    --jobs \"${JOB_ID}\" \\\n",
    "    --users \"${USER_NAME}\" \\\n",
    "    --status '*' \\"
   ]
  }
 ],
 "metadata": {
  "language_info": {
   "name": "python"
  }
 },
 "nbformat": 4,
 "nbformat_minor": 2
}
