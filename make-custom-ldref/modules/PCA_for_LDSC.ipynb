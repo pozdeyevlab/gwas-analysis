{
 "cells": [
  {
   "cell_type": "code",
   "execution_count": null,
   "metadata": {
    "vscode": {
     "languageId": "plaintext"
    }
   },
   "outputs": [],
   "source": [
    "import pandas as pd\n",
    "import statistics as s"
   ]
  },
  {
   "cell_type": "code",
   "execution_count": null,
   "metadata": {
    "vscode": {
     "languageId": "plaintext"
    }
   },
   "outputs": [],
   "source": [
    "GENETIC_DIR='meta_analysis_mixed'\n",
    "%env GENDIR={GENETIC_DIR}"
   ]
  },
  {
   "cell_type": "code",
   "execution_count": null,
   "metadata": {
    "vscode": {
     "languageId": "plaintext"
    }
   },
   "outputs": [],
   "source": [
    "# copying genetc data extracted with dsub_subset_and_map_bgen_parallel.ipynb\n",
    "!gsutil -m cp -R gs~/data/cov-ldsc/output/${GENDIR} ."
   ]
  },
  {
   "cell_type": "code",
   "execution_count": null,
   "metadata": {
    "vscode": {
     "languageId": "plaintext"
    }
   },
   "outputs": [],
   "source": [
    "%%bash\n",
    "\n",
    "# generating file with file names\n",
    "\n",
    "file=\"./${GENDIR}/mergelist.txt\"\n",
    "\n",
    "if [ -f \"$file\" ] ; then\n",
    "    rm \"$file\"\n",
    "fi\n",
    "\n",
    "for i in {1..22}\n",
    "do\n",
    "echo \"chr\"${i}\"_map\" >> ./${GENDIR}/mergelist.txt\n",
    "done"
   ]
  },
  {
   "cell_type": "code",
   "execution_count": null,
   "metadata": {
    "vscode": {
     "languageId": "plaintext"
    }
   },
   "outputs": [],
   "source": [
    "%%bash\n",
    "\n",
    "#merging per chromosome bed file into a single bed/bim/fam\n",
    "cd ./${GENDIR}\n",
    "plink2 --pmerge-list mergelist.txt bfile --make-bed --out merged_map"
   ]
  },
  {
   "cell_type": "code",
   "execution_count": null,
   "metadata": {
    "vscode": {
     "languageId": "plaintext"
    }
   },
   "outputs": [],
   "source": [
    "%%bash\n",
    "\n",
    "# LD pruning\n",
    "cd ./${GENDIR}\n",
    "plink2 --bfile merged_map --indep-pairwise 500 50 0.1"
   ]
  },
  {
   "cell_type": "code",
   "execution_count": null,
   "metadata": {
    "vscode": {
     "languageId": "plaintext"
    }
   },
   "outputs": [],
   "source": [
    "%%bash\n",
    "\n",
    "# estimating relatedness\n",
    "cd ./${GENDIR}\n",
    "plink2 --bfile merged_map --extract plink2.prune.in --king-cutoff 0.0884"
   ]
  },
  {
   "cell_type": "code",
   "execution_count": null,
   "metadata": {
    "vscode": {
     "languageId": "plaintext"
    }
   },
   "outputs": [],
   "source": [
    "%%bash\n",
    "\n",
    "# calculating PCA\n",
    "cd ./${GENDIR}\n",
    "plink2 --bfile merged_map --keep plink2.king.cutoff.in.id --extract plink2.prune.in  --pca"
   ]
  },
  {
   "cell_type": "code",
   "execution_count": null,
   "metadata": {
    "vscode": {
     "languageId": "plaintext"
    }
   },
   "outputs": [],
   "source": [
    "# saving PCs as input file for cov-LDSC removing header\n",
    "df = pd.read_csv(\"./\" + GENETIC_DIR + \"/plink2.eigenvec\", sep = '\\t')\n",
    "df.to_csv('gs~/data/cov-ldsc/ldsc_input/' + GENETIC_DIR + '_plink2.eigenvec', \n",
    "          sep='\\t', \n",
    "          index=False,\n",
    "          header = False)"
   ]
  },
  {
   "cell_type": "code",
   "execution_count": null,
   "metadata": {
    "vscode": {
     "languageId": "plaintext"
    }
   },
   "outputs": [],
   "source": [
    "%%bash\n",
    "\n",
    "# removing related individuals from test chromosome\n",
    "cd ./${GENDIR}\n",
    "\n",
    "for i in {1..22};\n",
    "do\n",
    "    plink2 --bfile chr${i}_map --keep plink2.king.cutoff.in.id --make-bed --out chr${i}_map_unrelated\n",
    "done"
   ]
  },
  {
   "cell_type": "code",
   "execution_count": null,
   "metadata": {
    "vscode": {
     "languageId": "plaintext"
    }
   },
   "outputs": [],
   "source": [
    "# copying plink files containing only unrelated individuals to cloud\n",
    "!gsutil -m cp ./${GENDIR}/chr*_map_unrelated* gs~/data/cov-ldsc/ldsc_input/${GENDIR}/"
   ]
  },
  {
   "cell_type": "code",
   "execution_count": null,
   "metadata": {
    "vscode": {
     "languageId": "plaintext"
    }
   },
   "outputs": [],
   "source": []
  }
 ],
 "metadata": {
  "language_info": {
   "name": "python"
  }
 },
 "nbformat": 4,
 "nbformat_minor": 2
}
